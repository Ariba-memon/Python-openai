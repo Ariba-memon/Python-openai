{
 "cells": [
  {
   "cell_type": "code",
   "execution_count": 3,
   "metadata": {},
   "outputs": [
    {
     "ename": "SyntaxError",
     "evalue": "invalid syntax (3064243831.py, line 3)",
     "output_type": "error",
     "traceback": [
      "\u001b[1;36m  Cell \u001b[1;32mIn[3], line 3\u001b[1;36m\u001b[0m\n\u001b[1;33m    - : bool = load_dotenv(\"./.env\")\u001b[0m\n\u001b[1;37m      ^\u001b[0m\n\u001b[1;31mSyntaxError\u001b[0m\u001b[1;31m:\u001b[0m invalid syntax\n"
     ]
    }
   ],
   "source": [
    "from openai import OpenAI\n",
    "from dotenv import load_dotenv\n",
    "- : bool = load_dotenv(\"./.env\")\n",
    "\n",
    "client: OpenAI = OpenAI()\n",
    "client\n",
    "\n",
    "\n",
    "\n",
    "from openai import OpenAI;\n",
    "from dotenv import load_dotenv, find_dotenv\n",
    "- : bool = load_dotenv()\n",
    "\n",
    "client :OpenAI = OpenAI()\n",
    "\n"
   ]
  },
  {
   "cell_type": "code",
   "execution_count": null,
   "metadata": {},
   "outputs": [],
   "source": [
    "# from openai import ChatCompletion\n",
    "# from openai.chat import Chat\n",
    "# from typing import \n",
    "from openaai import OpenAI\n",
    "def chat_completion (prompt :str) ->str:\n",
    "response: ChatCompletion = client.chat.completions.create(\n",
    "messages =[\n",
    "{\n",
    "\"role\": \"user\",\n",
    "\"content\":prompt,\n",
    "}\n",
    "],\n",
    "model=\"gpt-3.5-turbo-1106\",\n",
    ")\n",
    "\n",
    "# print(response)\n",
    "# print(response.choices[0].message.content)\n",
    "return response.choices[0].message.content\n",
    "chat_completion(\"what is 1+1?\")\n"
   ]
  }
 ],
 "metadata": {
  "kernelspec": {
   "display_name": "Python 3",
   "language": "python",
   "name": "python3"
  },
  "language_info": {
   "codemirror_mode": {
    "name": "ipython",
    "version": 3
   },
   "file_extension": ".py",
   "mimetype": "text/x-python",
   "name": "python",
   "nbconvert_exporter": "python",
   "pygments_lexer": "ipython3",
   "version": "3.11.6"
  }
 },
 "nbformat": 4,
 "nbformat_minor": 2
}
